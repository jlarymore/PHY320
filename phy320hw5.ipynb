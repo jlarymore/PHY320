{
 "cells": [
  {
   "cell_type": "code",
   "execution_count": null,
   "metadata": {},
   "outputs": [],
   "source": [
    "# Hw 5 :4.2, 4.3, 4.5, 4.7, 4.8, 4.14, 4.26, 4.30"
   ]
  },
  {
   "cell_type": "markdown",
   "metadata": {},
   "source": [
    "4.2 \n",
    "\n",
    "At a power plant that produces 1GW (10^9 watts) of electricity, the steam turbines take in steam at a temperature of 500 C, and the waste heat is expelled into the environment at 20 C.\n",
    "\n",
    "(a) What is the maximum possible efficiency of this plant?\n",
    "\n",
    "(b) Suppose you develop a new material for making pipes and turbines, which allows the maximum steam temperature to be raised to 600 C. Roughly how much money can you make in a year by installing your improved hardware , if you sell the additional electricity for 5 cents per kilowatt-hour? (Assume that the amount of fuel consumed at the plant is unchanged.)"
   ]
  },
  {
   "cell_type": "code",
   "execution_count": null,
   "metadata": {},
   "outputs": [],
   "source": []
  },
  {
   "cell_type": "markdown",
   "metadata": {},
   "source": [
    "4.3\n",
    "\n",
    "A power plant produces 1 GW of electricity, at an efficiency of 40% (typical of today's coal-fired plants).\n",
    "\n",
    "(a) At what rate does this plant expel waste heat into its environment?\n",
    "\n",
    "(b) Assume first that the cold reservoir for this plant is a river whose flow rate is 100 m^3/s. By how much will the temperature of the river increase?\n",
    "\n",
    "(c) To avoid this \"thermal pollution\" of the river, the plant could instead be cooled by evaporation of river water. (This is more expensive, but in some areas it is environmentally preferable.) At what rate must the water evaporate? What fraction of the river must be evaporated?"
   ]
  },
  {
   "cell_type": "code",
   "execution_count": null,
   "metadata": {},
   "outputs": [],
   "source": []
  },
  {
   "cell_type": "markdown",
   "metadata": {},
   "source": [
    "4.5\n",
    "\n",
    "Prove directly (by calculating the heat taken in and the heat expelled) that a Carnot engine using an ideal gas as the working substanvce has an efficiency of 1-Tc/Th."
   ]
  },
  {
   "cell_type": "code",
   "execution_count": null,
   "metadata": {},
   "outputs": [],
   "source": []
  },
  {
   "cell_type": "markdown",
   "metadata": {},
   "source": [
    "4.7\n",
    "\n",
    "Why must you put an air conditioner in the window of a building, rather than in the middle of a room?"
   ]
  },
  {
   "cell_type": "code",
   "execution_count": null,
   "metadata": {},
   "outputs": [],
   "source": []
  },
  {
   "cell_type": "markdown",
   "metadata": {},
   "source": [
    "4.8 \n",
    "\n",
    "Can you cool off your kitchen by leaving the refrigerator door open? Explain."
   ]
  },
  {
   "cell_type": "code",
   "execution_count": null,
   "metadata": {},
   "outputs": [],
   "source": []
  },
  {
   "cell_type": "markdown",
   "metadata": {},
   "source": [
    "4.14\n",
    "\n",
    "A heat pump is an electrical device that heats a building by pumping heat in from the cold outside. In other words, it's the same as a refrigerator, but its purpose is to warm the hot reservoir rather than to cool the cold reservoir (even though it does both). Let us define the following standard symbols, all taken to be positive by convention:\n",
    "\n",
    "Th = temperature inside building\n",
    "\n",
    "Tc = temperature outside\n",
    "\n",
    "Qh = heat pumped into building in 1 day\n",
    "\n",
    "Qc = heat taken from outdoors in 1 day\n",
    "\n",
    "W = electrical energy used by heat pump in 1 day"
   ]
  },
  {
   "cell_type": "code",
   "execution_count": null,
   "metadata": {},
   "outputs": [],
   "source": []
  },
  {
   "cell_type": "markdown",
   "metadata": {},
   "source": [
    "4.26\n",
    "\n",
    "A coal-fired power plant, with parameters similar to those used in the test above, is to deliver 1 GW (10^9 watts) of power. Estimate the amount of steam (in kilograms) that must pass through the turbine(s) each second."
   ]
  },
  {
   "cell_type": "code",
   "execution_count": null,
   "metadata": {},
   "outputs": [],
   "source": []
  },
  {
   "cell_type": "markdown",
   "metadata": {},
   "source": [
    "4.30\n",
    "\n",
    "Consider a household refrigerator that uses HFC-134a as the refrigerant, operating between the pressure of 1.0 bar and 10 bars.\n",
    "\n",
    "(a) The compression stage of the cycle begins with saturated vapor at 1 bar and ends at 10 bars. Assuming that the entropy is constant during compression, find the approximate temperature of the vapor after it is compressed. (You'll have to do an interpolation between the values given in Table 4.4.)\n",
    "\n",
    "(b) Determine the enthalpy at each of the points 1, 2, 3, and 4, and calculate the coefficient of performance.  Compare to the COP of a Carnot refrigerator operating between the same reservoir temperatures. Does this temperature range seem reasonable for a household refrigerator? Explain briefly.\n",
    "\n",
    "(c) What fraction of the liquid vaporizes during the throttling step?"
   ]
  },
  {
   "cell_type": "code",
   "execution_count": null,
   "metadata": {},
   "outputs": [],
   "source": []
  }
 ],
 "metadata": {
  "kernelspec": {
   "display_name": "Python 3",
   "language": "python",
   "name": "python3"
  },
  "language_info": {
   "codemirror_mode": {
    "name": "ipython",
    "version": 3
   },
   "file_extension": ".py",
   "mimetype": "text/x-python",
   "name": "python",
   "nbconvert_exporter": "python",
   "pygments_lexer": "ipython3",
   "version": "3.7.1"
  }
 },
 "nbformat": 4,
 "nbformat_minor": 2
}
