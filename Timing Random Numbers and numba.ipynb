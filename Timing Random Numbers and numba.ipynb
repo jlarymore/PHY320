{
 "cells": [
  {
   "cell_type": "markdown",
   "metadata": {},
   "source": [
    "## Timing loops and random numbers (and numba)"
   ]
  },
  {
   "cell_type": "code",
   "execution_count": 1,
   "metadata": {},
   "outputs": [],
   "source": [
    "from pylab import *\n",
    "from time import time\n",
    "N = int(1e7)"
   ]
  },
  {
   "cell_type": "code",
   "execution_count": 2,
   "metadata": {},
   "outputs": [
    {
     "name": "stdout",
     "output_type": "stream",
     "text": [
      "Elapsed time: 4.715220928192139\n"
     ]
    }
   ],
   "source": [
    "start = time()\n",
    "for i in range(N):\n",
    "    x = rand()\n",
    "end = time()\n",
    "print('Elapsed time:', end-start)"
   ]
  },
  {
   "cell_type": "code",
   "execution_count": 3,
   "metadata": {},
   "outputs": [
    {
     "name": "stdout",
     "output_type": "stream",
     "text": [
      "Elapsed time: 0.17515206336975098\n"
     ]
    }
   ],
   "source": [
    "start = time()\n",
    "x = rand(N)\n",
    "end = time()\n",
    "print('Elapsed time:', end-start)"
   ]
  },
  {
   "cell_type": "markdown",
   "metadata": {},
   "source": [
    "## Monte Carlo example (with NUMBA)"
   ]
  },
  {
   "cell_type": "code",
   "execution_count": 4,
   "metadata": {},
   "outputs": [],
   "source": [
    "# Regular old function...\n",
    "# \"rArray\" is an array of random numbers\n",
    "def coinFlipping(numFlips, numCoins, rArray):\n",
    "    '''\n",
    "    Documentation goes here...\n",
    "    '''\n",
    "    rIndex = 0     # Index to find random number\n",
    "    headsAccum = 0 # ACCUMULATOR\n",
    "    \n",
    "    for flip in range(numFlips):\n",
    "        numHeads = 0\n",
    "        for coin in range(numCoins):\n",
    "            r = rArray[rIndex]\n",
    "            rIndex = rIndex + 1\n",
    "            if r < 0.5:\n",
    "                numHeads = numHeads + 1\n",
    "        headsAccum = headsAccum + numHeads\n",
    "    averageNumHeads = headsAccum / numFlips\n",
    "    return averageNumHeads"
   ]
  },
  {
   "cell_type": "code",
   "execution_count": 12,
   "metadata": {},
   "outputs": [],
   "source": [
    "# Parameters\n",
    "numFlips = 10000\n",
    "numCoins = 100"
   ]
  },
  {
   "cell_type": "markdown",
   "metadata": {},
   "source": [
    "### Execution without compiling"
   ]
  },
  {
   "cell_type": "code",
   "execution_count": 6,
   "metadata": {},
   "outputs": [
    {
     "data": {
      "text/plain": [
       "49.9091"
      ]
     },
     "execution_count": 6,
     "metadata": {},
     "output_type": "execute_result"
    }
   ],
   "source": [
    "randomNumbers = rand(numFlips * numCoins)\n",
    "coinFlipping(numFlips, numCoins, randomNumbers)"
   ]
  },
  {
   "cell_type": "markdown",
   "metadata": {},
   "source": [
    "### Compiling with NUMBA (See http://numba.pydata.org/)"
   ]
  },
  {
   "cell_type": "code",
   "execution_count": 7,
   "metadata": {},
   "outputs": [],
   "source": [
    "from numba import int32, double, jit # \"jit\": \"Just In Time compiler\"\n",
    "coinFlipping_numba = jit(double(int32, int32, double[:]), nopython=True)(coinFlipping)"
   ]
  },
  {
   "cell_type": "markdown",
   "metadata": {},
   "source": [
    "### Execution with COMPILED function"
   ]
  },
  {
   "cell_type": "code",
   "execution_count": 8,
   "metadata": {},
   "outputs": [
    {
     "data": {
      "text/plain": [
       "49.888"
      ]
     },
     "execution_count": 8,
     "metadata": {},
     "output_type": "execute_result"
    }
   ],
   "source": [
    "randomNumbers = rand(numFlips * numCoins)\n",
    "coinFlipping_numba(numFlips, numCoins, randomNumbers)"
   ]
  },
  {
   "cell_type": "markdown",
   "metadata": {},
   "source": [
    "### Timing:"
   ]
  },
  {
   "cell_type": "code",
   "execution_count": 13,
   "metadata": {},
   "outputs": [
    {
     "name": "stdout",
     "output_type": "stream",
     "text": [
      "For the uncompiled function, t = 3.092434883117676\n",
      "For the COMPILED function, t = 0.14303302764892578\n"
     ]
    }
   ],
   "source": [
    "# Parameters\n",
    "numFlips = 10000\n",
    "numCoins = 1000\n",
    "\n",
    "# Execution 1:\n",
    "start = time()\n",
    "randomNumbers = rand(numFlips * numCoins)\n",
    "coinFlipping(numFlips, numCoins, randomNumbers)\n",
    "end = time()\n",
    "print('For the uncompiled function, t =', end-start)\n",
    "\n",
    "# Execution 2:\n",
    "start = time()\n",
    "randomNumbers = rand(numFlips * numCoins)\n",
    "coinFlipping_numba(numFlips, numCoins, randomNumbers)\n",
    "end = time()\n",
    "print('For the COMPILED function, t =', end-start)"
   ]
  },
  {
   "cell_type": "code",
   "execution_count": null,
   "metadata": {},
   "outputs": [],
   "source": []
  }
 ],
 "metadata": {
  "anaconda-cloud": {},
  "kernelspec": {
   "display_name": "Python 3",
   "language": "python",
   "name": "python3"
  },
  "language_info": {
   "codemirror_mode": {
    "name": "ipython",
    "version": 3
   },
   "file_extension": ".py",
   "mimetype": "text/x-python",
   "name": "python",
   "nbconvert_exporter": "python",
   "pygments_lexer": "ipython3",
   "version": "3.7.0"
  }
 },
 "nbformat": 4,
 "nbformat_minor": 1
}
