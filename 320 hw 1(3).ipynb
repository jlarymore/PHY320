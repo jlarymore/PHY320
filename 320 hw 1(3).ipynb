{
 "cells": [
  {
   "cell_type": "code",
   "execution_count": 16,
   "metadata": {
    "collapsed": true
   },
   "outputs": [],
   "source": [
    "from pylab import *\n",
    "%matplotlib inline"
   ]
  },
  {
   "cell_type": "code",
   "execution_count": 17,
   "metadata": {
    "collapsed": true
   },
   "outputs": [],
   "source": [
    "#1.1"
   ]
  },
  {
   "cell_type": "code",
   "execution_count": 18,
   "metadata": {
    "collapsed": true
   },
   "outputs": [],
   "source": [
    "def FfromC(cel):\n",
    "    F=1.8*cel +32\n",
    "    return F\n",
    "def CfromF(far):\n",
    "    C= (far-32)*5/9\n",
    "    return C\n",
    "def KfromC(cel):\n",
    "    K=cel+273\n",
    "    return K\n",
    "def KfromF(far):\n",
    "    K= KfromC(CfromF(far))\n",
    "    return K"
   ]
  },
  {
   "cell_type": "code",
   "execution_count": 19,
   "metadata": {},
   "outputs": [
    {
     "name": "stdout",
     "output_type": "stream",
     "text": [
      "310.0  K for body temp = 98.6 F\n",
      "373.0  K for boiling temp = 212 F\n",
      "253.55555555555554  K for coldest day = -3 F\n",
      "77  K for boiling point of liquid nitrogen = -196 C\n",
      "600  K for melting point of lead = 327 C\n"
     ]
    }
   ],
   "source": [
    "#1.3 complete\n",
    "print(KfromF(98.6),\" K for body temp = 98.6 F\")\n",
    "print(KfromF(212),\" K for boiling temp = 212 F\")\n",
    "print(KfromF(-3),\" K for coldest day = -3 F\")\n",
    "print(KfromC(-196),\" K for boiling point of liquid nitrogen = -196 C\")\n",
    "print(KfromC(327),\" K for melting point of lead = 327 C\")"
   ]
  },
  {
   "cell_type": "code",
   "execution_count": 20,
   "metadata": {
    "collapsed": true
   },
   "outputs": [],
   "source": [
    "#1.6 complete"
   ]
  },
  {
   "cell_type": "markdown",
   "metadata": {},
   "source": [
    "In order to accurately judge the temperature accurately a state of thermal equilibrium must be met by allowing a relaxation time to occur in which both objects are the same temperature. Touch is not a viable method of measuring temperature of an object as the human body maintains a constant temperature and their in no recordable difference which we can compare to the temperature change such as the pressure of a gas in a thermometer. An example of this is touching an iron heated to 400 F and 500 F. One can not allow relaxation time to measure or record the volume of the body if it were possible. To the touch they would feel the same, VERY HOT!!!"
   ]
  },
  {
   "cell_type": "code",
   "execution_count": 21,
   "metadata": {
    "collapsed": true
   },
   "outputs": [],
   "source": [
    "#1.7b complete"
   ]
  },
  {
   "cell_type": "markdown",
   "metadata": {},
   "source": [
    "If the thermal expansion of water were always positive it would mean that the density of solid ice would be more dense than water in its liquid form. If this were the case a lake would freeze from the bottome up, rather than from the top down, and the last to freeze would be a puddle on the top as aposed the to lowest amount of water."
   ]
  },
  {
   "cell_type": "code",
   "execution_count": 22,
   "metadata": {},
   "outputs": [
    {
     "name": "stdout",
     "output_type": "stream",
     "text": [
      "change in length =  0.5072222222222226  m\n"
     ]
    }
   ],
   "source": [
    "#1.8a\n",
    "a=1.1*10**(-5)\n",
    "l=1000\n",
    "dt=KfromF(103) - KfromF(20)\n",
    "dl=a*dt*l\n",
    "print(\"change in length = \",dl,\" m\")"
   ]
  },
  {
   "cell_type": "markdown",
   "metadata": {},
   "source": [
    "1.8b\n",
    "\n",
    "The dial thermometer makes use of the different expansion values for the different metals. The difference in the lengths causes the coil to wind or unwind as they are joined together. This is a clever design as it enhances the seemingly small measurable difference of lengths to a more practical measurable difference of angle which also makes calibrating easier. "
   ]
  },
  {
   "cell_type": "code",
   "execution_count": 23,
   "metadata": {},
   "outputs": [
    {
     "name": "stdout",
     "output_type": "stream",
     "text": [
      "volume of 1 mol of air at room temperature and 1 atm =  2444.063333333333  m^3\n"
     ]
    }
   ],
   "source": [
    "#1.9 complete\n",
    "n=1\n",
    "R=8.31\n",
    "T=KfromF(70)\n",
    "P=1\n",
    "V=n*R*T/P\n",
    "print(\"volume of 1 mol of air at room temperature and 1 atm = \",V,\" m^3\")"
   ]
  },
  {
   "cell_type": "code",
   "execution_count": 24,
   "metadata": {},
   "outputs": [
    {
     "name": "stdout",
     "output_type": "stream",
     "text": [
      "Estimate of air molecules in average size room of volume  75  m^3 =  1.8465290861158248e+22  molecules\n",
      "Weight of room =  0.008717056251616012  N\n"
     ]
    }
   ],
   "source": [
    "#1.10 complete\n",
    "l=5 #meters\n",
    "w=5  #meters\n",
    "h=3  #meters\n",
    "V=l*w*h # m^3\n",
    "P=1 #atm\n",
    "k=1.381*10**(-23) # J/K\n",
    "T=KfromF(70) #K\n",
    "N=P*V/(k*T) # molecules\n",
    "print(\"Estimate of air molecules in average size room of volume \",V,\" m^3 = \", N,\" molecules\")\n",
    "amN=2*.0140067  # kg/mol\n",
    "amO=2*.015999 # kg/mol\n",
    "amAr=.039948 # kg/mol\n",
    "Na=6.02*10**23\n",
    "amavg= .78*amN + .21*amO+ .01*amAr # kg/mol\n",
    "mm=amavg/Na #kg\n",
    "Weight = mm*N*9.81 \n",
    "print (\"Weight of room = \", Weight,\" N\")"
   ]
  },
  {
   "cell_type": "code",
   "execution_count": 25,
   "metadata": {
    "collapsed": true
   },
   "outputs": [],
   "source": [
    "#1.11"
   ]
  },
  {
   "cell_type": "markdown",
   "metadata": {},
   "source": [
    "If two rooms of same sized were connected by an open door it can be assumed that the volue, pressure, and avereage weight of air molecules are the same for both rooms. If the molecular weight of air is assumed to be the same it can also be assumed that the greater mass will be in the room with more molecules. When using the ideal gas law to solve for the number of molecules it is determined that the number of molecules is inversely proportional to the temperature.\n",
    "If one room were to have a higher temperature due to sunlight from a window, the cooler room would have a greater mass of air compared to a warmer room."
   ]
  },
  {
   "cell_type": "code",
   "execution_count": 28,
   "metadata": {},
   "outputs": [
    {
     "name": "stdout",
     "output_type": "stream",
     "text": [
      "Estimate of average volume of single molecule =  4.061674444444444e-21  m^3 \n",
      "Estimate of average separation of molecules =  1.5955179830464425e-07  m^3 much which much greater than gas molecules \n",
      "Length of N2 molecule =  1.0975000000000001e-11  m^3\n",
      "Length of H20 molecule =  2.5e-10  m^3\n"
     ]
    }
   ],
   "source": [
    "#1.12\n",
    "P=1\n",
    "k=1.381*10**(-23)\n",
    "T=KfromF(70)\n",
    "N=1\n",
    "V=N*k*T/P\n",
    "Ni=0.010975*10**(-9)\n",
    "W=0.250*10**(-9)\n",
    "print(\"Estimate of average volume of single molecule = \",V,\" m^3 \")\n",
    "print(\"Estimate of average separation of molecules = \",V**(1/3),\" m^3 much which much greater than gas molecules \")\n",
    "print(\"Length of N2 molecule = \", Ni,\" m^3\")\n",
    "print(\"Length of H20 molecule = \", W,\" m^3\")"
   ]
  },
  {
   "cell_type": "code",
   "execution_count": 29,
   "metadata": {},
   "outputs": [],
   "source": [
    "#1.16"
   ]
  },
  {
   "cell_type": "code",
   "execution_count": 32,
   "metadata": {},
   "outputs": [
    {
     "name": "stdout",
     "output_type": "stream",
     "text": [
      "RMS speed of nitrogen molecule at room temperature =  511.71543503439074  m/s\n"
     ]
    }
   ],
   "source": [
    "#1.18\n",
    "amN=2*.0140067  # kg/mol\n",
    "Na=6.02*10**23\n",
    "m=amN/Na\n",
    "k=1.381*10**(-23)\n",
    "T=KfromF(70)\n",
    "vrms=((3*k*T)/m)**(1/2)\n",
    "print(\"RMS speed of nitrogen molecule at room temperature = \",vrms,\" m/s\")"
   ]
  },
  {
   "cell_type": "code",
   "execution_count": 33,
   "metadata": {},
   "outputs": [
    {
     "name": "stdout",
     "output_type": "stream",
     "text": [
      "At thermal equilibrium h2 molecule will be moving faster by a factor of  3.9840894353773066 . This is due to the RMS speed being inversely proportional to the square root of the mass\n"
     ]
    }
   ],
   "source": [
    "#1.19\n",
    "mh=.00100794\n",
    "mo=.015999 #kg/mol\n",
    "f=(mo/mh)**(1/2)\n",
    "print(\"At thermal equilibrium h2 molecule will be moving faster by a factor of \",f,\". This is due to the RMS speed being inversely proportional to the square root of the mass\")"
   ]
  },
  {
   "cell_type": "code",
   "execution_count": 37,
   "metadata": {},
   "outputs": [
    {
     "name": "stdout",
     "output_type": "stream",
     "text": [
      "The larger molecule 45650549222269.17  m/s travels slower than the smaller molecule  45650549222269.17  m/s\n"
     ]
    }
   ],
   "source": [
    "#1.20\n",
    "k=1.381*10**(-23)*10**23\n",
    "T=KfromF(70)\n",
    "Na=6.02*10**23\n",
    "Ua=.238/ Na #kg\n",
    "Ub=.235/Na\n",
    "F=.0189984032/Na\n",
    "ma=Ua+6*F\n",
    "mb=Ub+6*F\n",
    "va=((3*k*T)/ma)**(1/2)\n",
    "vb=((3*k*T)/mb)**(1/2)\n",
    "print(\"The larger molecule\",va,\" m/s travels slower than the smaller molecule \", va,\" m/s\")"
   ]
  },
  {
   "cell_type": "code",
   "execution_count": 38,
   "metadata": {},
   "outputs": [
    {
     "name": "stdout",
     "output_type": "stream",
     "text": [
      "The average pressure is  1.89115915974  F/A or atm which is almost double that of the normal pressure of 1 atm\n"
     ]
    }
   ],
   "source": [
    "#1.21\n",
    "m=.002\n",
    "v=15\n",
    "vxi=v*cos(45)\n",
    "vxf=-vxi\n",
    "A=.5\n",
    "F=-m*(vxf-vxi)\n",
    "Ftot=F*30\n",
    "P=Ftot/A\n",
    "print(\"The average pressure is \",P,\" F/A or atm which is almost double that of the normal pressure of 1 atm\")"
   ]
  },
  {
   "cell_type": "code",
   "execution_count": 39,
   "metadata": {},
   "outputs": [
    {
     "name": "stdout",
     "output_type": "stream",
     "text": [
      "3.9782973643410845e-19  J\n"
     ]
    }
   ],
   "source": [
    "#1.24\n",
    "k=1.31*10**(-23)*10**23\n",
    "T=KfromF(70)\n",
    "mass=.001\n",
    "Na=6.02*10**23\n",
    "Pb=207.2\n",
    "N=Pb/Na\n",
    "f=6\n",
    "U=N*f*.5*k*T\n",
    "print(U,\" J\")"
   ]
  },
  {
   "cell_type": "code",
   "execution_count": null,
   "metadata": {
    "collapsed": true
   },
   "outputs": [],
   "source": [
    "#1.26"
   ]
  },
  {
   "cell_type": "markdown",
   "metadata": {},
   "source": [
    "The flow of energy from the battery to the resistor is an example of Work as it is a transfer of energy from the battery to the resistor in the form of electric potential energy.\n",
    "\n",
    "The flow of energy from the battery to the water is an example of Heat as it is a spontaneous flow of energy which occurs due to the temperature diferrence."
   ]
  },
  {
   "cell_type": "code",
   "execution_count": 45,
   "metadata": {},
   "outputs": [
    {
     "name": "stdout",
     "output_type": "stream",
     "text": [
      "3.574111876965963e-23  seconds\n"
     ]
    }
   ],
   "source": [
    "#1.28\n",
    "m=\n",
    "mpmow=.01801528\n",
    "Na=6.02*10**23\n",
    "mwat=m/Na\n",
    "N=m/mpmow\n",
    "W=600\n",
    "f=3\n",
    "k=1.381*10**(-23)\n",
    "\n",
    "Ta=KfromF(70)\n",
    "Tb=KfromF(212)\n",
    "Ui=N*f*.5*k*Ta\n",
    "Uf=N*f*.5*k*Tb\n",
    "ciU=Uf-Ui\n",
    "t= ciU/W\n",
    "print(t,\" seconds\")"
   ]
  },
  {
   "cell_type": "code",
   "execution_count": null,
   "metadata": {
    "collapsed": true
   },
   "outputs": [],
   "source": [
    "#1.29"
   ]
  },
  {
   "cell_type": "code",
   "execution_count": null,
   "metadata": {
    "collapsed": true
   },
   "outputs": [],
   "source": [
    "#1.31"
   ]
  },
  {
   "cell_type": "code",
   "execution_count": null,
   "metadata": {
    "collapsed": true
   },
   "outputs": [],
   "source": [
    "#1.33"
   ]
  },
  {
   "cell_type": "code",
   "execution_count": null,
   "metadata": {
    "collapsed": true
   },
   "outputs": [],
   "source": [
    "#1.36"
   ]
  },
  {
   "cell_type": "code",
   "execution_count": null,
   "metadata": {
    "collapsed": true
   },
   "outputs": [],
   "source": [
    "#1.38"
   ]
  },
  {
   "cell_type": "code",
   "execution_count": null,
   "metadata": {
    "collapsed": true
   },
   "outputs": [],
   "source": [
    "#1.41"
   ]
  }
 ],
 "metadata": {
  "kernelspec": {
   "display_name": "Python 3",
   "language": "python",
   "name": "python3"
  },
  "language_info": {
   "codemirror_mode": {
    "name": "ipython",
    "version": 3
   },
   "file_extension": ".py",
   "mimetype": "text/x-python",
   "name": "python",
   "nbconvert_exporter": "python",
   "pygments_lexer": "ipython3",
   "version": "3.7.1"
  }
 },
 "nbformat": 4,
 "nbformat_minor": 1
}
